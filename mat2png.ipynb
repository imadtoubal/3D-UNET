{
 "nbformat": 4,
 "nbformat_minor": 2,
 "metadata": {
  "language_info": {
   "name": "python",
   "codemirror_mode": {
    "name": "ipython",
    "version": 3
   },
   "version": "3.7.6-final"
  },
  "orig_nbformat": 2,
  "file_extension": ".py",
  "mimetype": "text/x-python",
  "name": "python",
  "npconvert_exporter": "python",
  "pygments_lexer": "ipython3",
  "version": 3,
  "kernelspec": {
   "name": "python37664bitkerasconda120d3dec334a4637a4da3013665cf3b4",
   "display_name": "Python 3.7.6 64-bit ('keras': conda)"
  }
 },
 "cells": [
  {
   "cell_type": "code",
   "execution_count": 37,
   "metadata": {},
   "outputs": [],
   "source": [
    "from utils import *\n",
    "import cv2\n",
    "d = 'val'"
   ]
  },
  {
   "cell_type": "code",
   "execution_count": 38,
   "metadata": {},
   "outputs": [
    {
     "name": "stderr",
     "output_type": "stream",
     "text": "100%|██████████| 10/10 [00:00<00:00, 28.70it/s]\n"
    }
   ],
   "source": [
    "X, Y = load_dataset(f'data/{d}/', pad=14, return_idx=True)"
   ]
  },
  {
   "cell_type": "code",
   "execution_count": 39,
   "metadata": {},
   "outputs": [],
   "source": [
    "n_images = X.shape[0]"
   ]
  },
  {
   "cell_type": "code",
   "execution_count": 40,
   "metadata": {},
   "outputs": [
    {
     "data": {
      "text/plain": "(10, 128, 128, 64)"
     },
     "execution_count": 40,
     "metadata": {},
     "output_type": "execute_result"
    }
   ],
   "source": [
    "Y.shape"
   ]
  },
  {
   "cell_type": "code",
   "execution_count": 41,
   "metadata": {},
   "outputs": [],
   "source": [
    "def uint8(img):\n",
    "    img = 255 * (img - img.min())/(img.max()- img.min())\n",
    "    return img.astype('uint8')"
   ]
  },
  {
   "cell_type": "code",
   "execution_count": 42,
   "metadata": {},
   "outputs": [],
   "source": [
    "base_path = f'png_data/{d}'\n",
    "for i in range(n_images):\n",
    "    # convert to uint8\n",
    "    image = uint8(X[i])\n",
    "    seg = Y[i].astype('uint8')\n",
    "    # image = np.pad(image, pad_width=((14,14), (0,0), (0, 0), (0, 0)))\n",
    "    # seg = np.pad(seg, pad_width=((14,14), (0, 0), (0, 0)))\n",
    "    # slice by slice\n",
    "    for j in range(image.shape[-2]):\n",
    "        imfilename = f'{base_path}/Img/Subj_{i+1}slice_{j+1}.png'\n",
    "        sgfilename = f'{base_path}/GT/Subj_{i+1}slice_{j+1}.png'\n",
    "        img_slice = image[:,:,j,0]\n",
    "        seg_slice = seg[:,:,j]\n",
    "        cv2.imwrite(imfilename, img_slice)\n",
    "        cv2.imwrite(sgfilename, seg_slice)"
   ]
  },
  {
   "cell_type": "code",
   "execution_count": 13,
   "metadata": {},
   "outputs": [
    {
     "data": {
      "text/plain": "(128, 128, 64, 1)"
     },
     "execution_count": 13,
     "metadata": {},
     "output_type": "execute_result"
    }
   ],
   "source": [
    "image.shape"
   ]
  },
  {
   "cell_type": "code",
   "execution_count": null,
   "metadata": {},
   "outputs": [],
   "source": []
  }
 ]
}