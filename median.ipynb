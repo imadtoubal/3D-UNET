{
 "nbformat": 4,
 "nbformat_minor": 2,
 "metadata": {
  "language_info": {
   "name": "python",
   "codemirror_mode": {
    "name": "ipython",
    "version": 3
   },
   "version": "3.7.6-final"
  },
  "orig_nbformat": 2,
  "file_extension": ".py",
  "mimetype": "text/x-python",
  "name": "python",
  "npconvert_exporter": "python",
  "pygments_lexer": "ipython3",
  "version": 3,
  "kernelspec": {
   "name": "python37664bitkerasconda120d3dec334a4637a4da3013665cf3b4",
   "display_name": "Python 3.7.6 64-bit ('keras': conda)"
  }
 },
 "cells": [
  {
   "cell_type": "code",
   "execution_count": 1,
   "metadata": {},
   "outputs": [
    {
     "output_type": "stream",
     "name": "stderr",
     "text": "Using TensorFlow backend.\n"
    }
   ],
   "source": [
    "from utils import *\n",
    "import numpy as np\n",
    "from numpy.random import seed"
   ]
  },
  {
   "cell_type": "code",
   "execution_count": 2,
   "metadata": {},
   "outputs": [],
   "source": [
    "# Custom imports\n",
    "from config import get_config"
   ]
  },
  {
   "cell_type": "code",
   "execution_count": 3,
   "metadata": {},
   "outputs": [],
   "source": [
    "# %%\n",
    "seed(0)\n",
    "cfg = get_config()"
   ]
  },
  {
   "cell_type": "code",
   "execution_count": 4,
   "metadata": {},
   "outputs": [
    {
     "output_type": "stream",
     "name": "stderr",
     "text": "100%|██████████| 100/100 [00:03<00:00, 31.61it/s]\nStacking...\nProcessing...\nNAS\n"
    }
   ],
   "source": [
    "# %%\n",
    "X,  Y  = load_dataset(cfg['data']['train_path'], return_idx=True)"
   ]
  },
  {
   "cell_type": "code",
   "execution_count": 12,
   "metadata": {},
   "outputs": [
    {
     "output_type": "execute_result",
     "data": {
      "text/plain": "(104857600,)"
     },
     "metadata": {},
     "execution_count": 12
    }
   ],
   "source": [
    "Y_ = Y.flatten()\n",
    "t = Y_.shape\n",
    "t"
   ]
  },
  {
   "cell_type": "code",
   "execution_count": 15,
   "metadata": {},
   "outputs": [],
   "source": [
    "freq = np.zeros(6)\n",
    "for i in range(6):\n",
    "    freq[i] = np.sum(Y_ == i) / t"
   ]
  },
  {
   "cell_type": "code",
   "execution_count": 22,
   "metadata": {},
   "outputs": [
    {
     "output_type": "execute_result",
     "data": {
      "text/plain": "array([ 0.0216864 ,  0.38078799,  1.96028943,  1.60354085, 13.47695266,\n        0.72654349])"
     },
     "metadata": {},
     "execution_count": 22
    }
   ],
   "source": [
    " np.median(freq) * (freq ** (-1))"
   ]
  },
  {
   "cell_type": "code",
   "execution_count": 20,
   "metadata": {},
   "outputs": [
    {
     "output_type": "execute_result",
     "data": {
      "text/plain": "0.019484705924987793"
     },
     "metadata": {},
     "execution_count": 20
    }
   ],
   "source": []
  },
  {
   "cell_type": "code",
   "execution_count": null,
   "metadata": {},
   "outputs": [],
   "source": [
    "# print(Y.shape)\n",
    "# Y = Y.flatten()\n",
    "\n",
    "# %%\n",
    "ss = []\n",
    "for i in range(6):\n",
    "    y = Y[:,:,:,:,i]\n",
    "    s = np.sum(y.flatten())\n",
    "    t = y.flatten().shape\n",
    "    ss.append(s/t) \n",
    "\n",
    "print(np.stack(ss).flatten())\n",
    "print(np.stack(ss).flatten().sum())"
   ]
  }
 ]
}